{
 "cells": [
  {
   "cell_type": "markdown",
   "metadata": {},
   "source": [
    "# Module 3 Practice 1\n",
    "## Conditionals \n",
    "<font size=\"5\" color=\"#00A0B2\"  face=\"verdana\"> <B>Student will be able to</B></font>  \n",
    "- **control code flow with `if`... `else` conditional logic**  \n",
    "  - using Boolean string methods (`.isupper(), .isalpha(), .startswith()...`)  \n",
    "  - using comparision (`>, <, >=, <=, ==, !=`)  \n",
    "  - using Strings in comparisons  \n",
    "\n",
    "## `if else`\n"
   ]
  },
  {
   "cell_type": "code",
   "execution_count": 1,
   "metadata": {},
   "outputs": [
    {
     "name": "stdout",
     "output_type": "stream",
     "text": [
      "Input your age (use only whole numbers): 19\n",
      "Age's first type is:  <class 'int'>\n",
      "Age's second type is:  <class 'int'>\n",
      "In ten years you will be 29.\n"
     ]
    }
   ],
   "source": [
    "# [ ] input a variable: age as digit and cast to int\n",
    "# if age greater than or equal to 12 then print message on age in 10 years \n",
    "# or else print message \"It is good to be\" age\n",
    "age = int(input(\"Input your age (use only whole numbers): \"))\n",
    "print(\"Age's first type is: \",type(age))\n",
    "age = int(age)\n",
    "print(\"Age's second type is: \",type(age))\n",
    "\n",
    "if age >= 12:\n",
    "    print(\"In ten years you will be \"+str(age+10)+\".\")\n",
    "else:\n",
    "    print(\"It is good to be \"+str(age)+\".\")\n",
    "\n",
    "\n",
    "\n"
   ]
  },
  {
   "cell_type": "code",
   "execution_count": 2,
   "metadata": {},
   "outputs": [
    {
     "name": "stdout",
     "output_type": "stream",
     "text": [
      "Enter a number: 10\n",
      "10 greater than 100 is FALSE\n"
     ]
    }
   ],
   "source": [
    "# [ ] input a number \n",
    "# if number IS a digit string then cast to int\n",
    "# print number \"greater than 100 is\" True/False\n",
    "# if number is NOT a digit string then message the user that \"only int is accepted\"\n",
    "num = input(\"Enter a number: \")\n",
    "if num.isdigit():\n",
    "    num = int(num)\n",
    "else:\n",
    "    print(\"Please enter an integer!\")\n",
    "if num > 100:\n",
    "    print(num , \"greater than 100 is TRUE\")\n",
    "else:\n",
    "    print(num , \"greater than 100 is FALSE\")\n",
    "\n"
   ]
  },
  {
   "cell_type": "markdown",
   "metadata": {},
   "source": [
    "### Guessing a letter A-Z  \n",
    "**check_guess()** takes 2 string arguments: **letter and guess** (both expect single alphabetical character)   \n",
    "    - if guess is not an alpha character print invalid and return False\n",
    "    - test and print if guess is \"high\" or \"low\" and return False\n",
    "    - test and print if guess is \"correct\" and return True"
   ]
  },
  {
   "cell_type": "code",
   "execution_count": 5,
   "metadata": {},
   "outputs": [],
   "source": [
    "# [ ] create check_guess()\n",
    "# call with test\n",
    "def check_guess(letter , user_guess):\n",
    "    if user_guess.isalpha():\n",
    "        if user_guess == letter:\n",
    "            print(user_guess , \"correct\")\n",
    "            return(True)\n",
    "        elif user_guess > letter:\n",
    "            print(user_guess , \"high\")\n",
    "            return(False)\n",
    "        elif user_guess < letter:\n",
    "            print((user_guess) , \"low\")\n",
    "            return(False)\n",
    "    else:\n",
    "        print(\"INVALID\")\n",
    "        return(False)"
   ]
  },
  {
   "cell_type": "code",
   "execution_count": 12,
   "metadata": {},
   "outputs": [
    {
     "name": "stdout",
     "output_type": "stream",
     "text": [
      "Enter a letter to guess:m\n",
      "M is correct!\n"
     ]
    },
    {
     "data": {
      "text/plain": [
       "True"
      ]
     },
     "execution_count": 12,
     "metadata": {},
     "output_type": "execute_result"
    }
   ],
   "source": [
    "# [ ] call check_guess with user input\n",
    "letter = input(\"Enter a letter to guess:\")\n",
    "letter = letter.capitalize()\n",
    "check_guess(letter, letter)\n"
   ]
  },
  {
   "cell_type": "markdown",
   "metadata": {},
   "source": [
    "### Letter Guess\n",
    "**create letter_guess() function that gives user 3 guesses**\n",
    "- takes a letter character argument for the answer letter\n",
    "- gets user input for letter guess  \n",
    "- calls check_guess() with answer and guess\n",
    "- End letter_guess if \n",
    "    - check_guess() equals True, return True  \n",
    "    - or after 3 failed attempts, return False"
   ]
  },
  {
   "cell_type": "code",
   "execution_count": 7,
   "metadata": {},
   "outputs": [
    {
     "name": "stdout",
     "output_type": "stream",
     "text": [
      "Enter a letter to guess:M\n",
      "Enter a guess:m\n",
      "M is correct!\n"
     ]
    },
    {
     "data": {
      "text/plain": [
       "True"
      ]
     },
     "execution_count": 7,
     "metadata": {},
     "output_type": "execute_result"
    }
   ],
   "source": [
    "# [ ] create letter_guess() function, call the function to test\n",
    "def check_guess(letter , guess):\n",
    "    if guess.isalpha():\n",
    "        if guess == letter:\n",
    "            print(guess , \"correct!\")\n",
    "            return(True)\n",
    "        elif guess > letter:\n",
    "            print(guess , \"high\")\n",
    "            return(False)\n",
    "        elif guess < letter:\n",
    "            print(guess , \"low\")\n",
    "            return(False)\n",
    "    else:\n",
    "        print(\"INVALID\")\n",
    "        return(False)\n",
    "def letter_guess(letter_answer , count):\n",
    "    if letter_answer.isalpha():\n",
    "        letter_answer = letter_answer.capitalize()\n",
    "        guess = input(\"Enter a guess:\")\n",
    "        guess = guess.capitalize()\n",
    "        correct = check_guess(letter_answer , guess)\n",
    "        if correct == True:\n",
    "            return(True)\n",
    "        else:\n",
    "            count = count + 1\n",
    "            if count < 3:\n",
    "                print (\"next guess\")\n",
    "                letter_guess(letter_answer , count)\n",
    "            else:\n",
    "                print(\"User could not guess letter in 3 tries :(\")\n",
    "                return(False)\n",
    "    else:\n",
    "        print(\"INVALID\") \n",
    "\n",
    "\n",
    "letter_answer = input(\"Enter a letter to guess:\")\n",
    "letter_guess(letter_answer, 0)\n",
    "\n"
   ]
  },
  {
   "cell_type": "markdown",
   "metadata": {},
   "source": [
    "### Pet Conversation\n",
    "**ask the user for a sentence about a pet and then reply**  \n",
    "- get user input in variable: about_pet\n",
    "- using a series of **if** statements respond with appropriate conversation\n",
    "  - check if \"dog\" is in the string about_pet (sample reply \"Ah, a dog\")\n",
    "  - check if \"cat\" is in the string about_pet\n",
    "  - check if 1 or more animal is in string about_pet\n",
    "- no need for **else**'s\n",
    "- finish with thanking for the story"
   ]
  },
  {
   "cell_type": "code",
   "execution_count": 8,
   "metadata": {},
   "outputs": [
    {
     "name": "stdout",
     "output_type": "stream",
     "text": [
      "Tell me something about your pet:dog\n",
      "My dog once took an entire bite out of a candle.\n",
      "Thanks for telling me about your dog!\n"
     ]
    }
   ],
   "source": [
    "# [ ] complete pet conversation\n",
    "about_pet = input(\"Tell me something about your pet:\")\n",
    "about_pet = about_pet.lower()\n",
    "if \"dog\" in about_pet:\n",
    "    print(\"My dog once took an entire bite out of a candle.\")\n",
    "    print(\"Thanks for telling me about your dog!\")\n",
    "if \"cat\" in about_pet:\n",
    "    print(\"One of my elementary school friends had a cat named Billy Joel.\")\n",
    "    print(\"Thanks for telling me about your cat!\")\n",
    "if \"snake\" in about_pet:\n",
    "    print(\"I think one of my cousins have a bunny too.\")\n",
    "    print(\"Thanks for telling me about your bunny!\")\n"
   ]
  },
  {
   "cell_type": "markdown",
   "metadata": {},
   "source": [
    "# Module 3 Practice 2\n",
    "## conditionals, type, and mathematics extended   \n",
    "&nbsp;\n",
    "<font size=\"5\" color=\"#00A0B2\"  face=\"verdana\"> <B>Student will be able to</B></font>  \n",
    "- code more than two choices using **`elif`** \n",
    "- gather numeric input using type casting  \n",
    "- perform subtraction, multiplication and division operations in code  &nbsp;  \n"
   ]
  },
  {
   "cell_type": "markdown",
   "metadata": {},
   "source": [
    "# &nbsp;  \n",
    "<font size=\"6\" color=\"#B24C00\"  face=\"verdana\"> <B>Tasks</B></font>"
   ]
  },
  {
   "cell_type": "markdown",
   "metadata": {},
   "source": [
    "### Rainbow colors\n",
    "ask for input of a favorite rainbow color first letter: ROYGBIV  \n",
    "\n",
    "Using `if`, `elif`, and `else`:  \n",
    "- print the color matching the letter  \n",
    "    - R = Red  \n",
    "    - O = Orange  \n",
    "    - Y = Yellow  \n",
    "    - G = Green\n",
    "    - B = Blue\n",
    "    - I = Indigo\n",
    "    - V = Violet\n",
    "    - else print \"no match\"\n"
   ]
  },
  {
   "cell_type": "code",
   "execution_count": 9,
   "metadata": {},
   "outputs": [
    {
     "name": "stdout",
     "output_type": "stream",
     "text": [
      "Enter the first letter of your favorite rainbow color (ROYGBIV):G\n",
      "G = Green\n"
     ]
    }
   ],
   "source": [
    "# [ ] complete rainbow colors\n",
    "fav_color= input(\"Enter the first letter of your favorite rainbow color (ROYGBIV):\").upper()\n",
    "if fav_color == \"R\":\n",
    "   print(\"R = Red\")\n",
    "elif fav_color == \"O\":\n",
    "   print(\"O = Orange\")\n",
    "elif fav_color == \"Y\":\n",
    "   print(\"Y = Yellow\")\n",
    "elif fav_color == \"G\":\n",
    "   print(\"G = Green\")\n",
    "elif fav_color == \"B\":\n",
    "   print(\"B = Blue\")\n",
    "elif fav_color == \"I\":\n",
    "   print(\"I = Indigo\")\n",
    "elif fav_color == \"V\":\n",
    "   print(\"V = Violet\")\n",
    "else:\n",
    "   print(\"no match\")"
   ]
  },
  {
   "cell_type": "code",
   "execution_count": 10,
   "metadata": {},
   "outputs": [
    {
     "name": "stdout",
     "output_type": "stream",
     "text": [
      "Your color:\n",
      "Enter the first letter of your favorite rainbow color (ROYGBIV): G\n",
      "G = Green\n"
     ]
    }
   ],
   "source": [
    "# [ ] make the code above into a function rainbow_color() that has a string parameter, \n",
    "# get input and call the function and return the matching color as a string or \"no match\" message.\n",
    "# Call the function and print the return string.\n",
    "def rainbow_color(color):\n",
    "    fav_color= input(\"Enter the first letter of your favorite rainbow color (ROYGBIV): \").upper()\n",
    "    if fav_color == \"R\":\n",
    "        return(\"R = Red\")\n",
    "    elif fav_color == \"O\":\n",
    "        return(\"O = Orange\")\n",
    "    elif fav_color == \"Y\":\n",
    "        return(\"Y = Yellow\")\n",
    "    elif fav_color == \"G\":\n",
    "        return(\"G = Green\")\n",
    "    elif fav_color == \"B\":\n",
    "        return(\"B = Blue\")\n",
    "    elif fav_color == \"I\":\n",
    "        return(\"I = Indigo\")\n",
    "    elif fav_color == \"V\":\n",
    "        return(\"V = Violet\")\n",
    "    else:\n",
    "        return(\"no match\")\n",
    "print(\"Your color:\")\n",
    "print(rainbow_color(\"O\"))\n"
   ]
  },
  {
   "cell_type": "markdown",
   "metadata": {},
   "source": [
    "# &nbsp;  \n",
    "**Create function age_20() that adds or subtracts 20 from your age for a return value based on current age** (use `if`) \n",
    "- call the funtion with user input and then use the return value in a sentence  \n",
    "example `age_20(25)` returns **5**: \n",
    "> \"5 years old, 20 years difference from now\""
   ]
  },
  {
   "cell_type": "code",
   "execution_count": 11,
   "metadata": {},
   "outputs": [
    {
     "name": "stdout",
     "output_type": "stream",
     "text": [
      "Enter your age:19\n",
      "Enter your age:19\n",
      "39 years old - 20 years more from now\n"
     ]
    }
   ],
   "source": [
    "# [ ] complete age_20()\n",
    "def age_20():\n",
    "    current_age = int(input(\"Enter your age:\"))\n",
    "    if current_age > 20:\n",
    "        return current_age - 20\n",
    "    else: \n",
    "        return current_age + 20\n",
    "if age_20() > 20:\n",
    "   print(age_20(),\"years old\",\"- 20 years more from now\")\n",
    "else:\n",
    "   print(age_20,\"years old\",\"- 20 years difference from now\")\n"
   ]
  },
  {
   "cell_type": "markdown",
   "metadata": {},
   "source": [
    "**create a function rainbow_or_age that takes a string argument**\n",
    "- if argument is a digit return the value of calling age_20() with the str value cast as **`int`** \n",
    "- if argument is an alphabetical character return the value of calling rainbow_color() with the str\n",
    "- if neither return FALSE"
   ]
  },
  {
   "cell_type": "code",
   "execution_count": 24,
   "metadata": {},
   "outputs": [],
   "source": [
    "# [ ]  create rainbow_or_age()\n",
    "def rainbow_or_age(amount):\n",
    "    if amount.isdigit(): \n",
    "       return int(age_20())\n",
    "    elif amount.isalpha():\n",
    "        return rainbow_or_age(\"g\")\n",
    "    else:\n",
    "        return \"False\"\n"
   ]
  },
  {
   "cell_type": "code",
   "execution_count": 20,
   "metadata": {},
   "outputs": [
    {
     "name": "stdout",
     "output_type": "stream",
     "text": [
      "This is an addition calculator\n",
      "Enter a number:7\n",
      "Enter a second number:7\n",
      "7 + 7 = 14\n"
     ]
    }
   ],
   "source": [
    "# [ ]  add 2 numbers from input using a cast to integer and display the answer \n",
    "num1= int(input(\"Enter a number:\"))\n",
    "num2= int(input(\"Enter a second number:\"))\n",
    "\n",
    "total= num_1 + num_2\n",
    "print(num_1,\"+\",num_2,\"=\", total)\n"
   ]
  },
  {
   "cell_type": "code",
   "execution_count": 19,
   "metadata": {},
   "outputs": [
    {
     "name": "stdout",
     "output_type": "stream",
     "text": [
      "This is an multiplying calculator\n",
      "Enter a number:6\n",
      "Enter a second number:6\n",
      "The answer is 36\n"
     ]
    }
   ],
   "source": [
    "# [ ] Multiply 2 numbers from input using cast and save the answer as part of a string \"the answer is...\"\n",
    "# display the string using print\n",
    "amount1= int(input(\"Enter a number:\"))\n",
    "amount2= int(input(\"Enter a second number:\"))\n",
    "result= amount1 * amount2\n",
    "print(\"The answer is...\", result)\n"
   ]
  },
  {
   "cell_type": "code",
   "execution_count": null,
   "metadata": {},
   "outputs": [],
   "source": [
    "# [ ] get input of 2 numbers and display the average: (num1 + num2) divided by 2\n",
    "value1 = int(input(\"Enter a number:\"))\n",
    "value2 = int(input(\"Enter a second number:\"))\n",
    "\n",
    "average= (value1 + value2)/2\n",
    "print(\"The average is\", average)\n"
   ]
  },
  {
   "cell_type": "code",
   "execution_count": 18,
   "metadata": {},
   "outputs": [
    {
     "name": "stdout",
     "output_type": "stream",
     "text": [
      "Enter a number:9\n",
      "Enter a second number:20\n",
      "-11\n"
     ]
    }
   ],
   "source": [
    "# [ ] get input of 2 numbers and subtract the largest from the smallest (use an if statement to see which is larger)\n",
    "# show the answer\n",
    "number1 = int(input(\"Enter a number: \"))\n",
    "number2 = int(input(\"Enter a 2nd number:\"))\n",
    "\n",
    "if number1 > number2:\n",
    "    print(number2 - number1)\n",
    "else:\n",
    "    print(number1 - number2)\n"
   ]
  },
  {
   "cell_type": "code",
   "execution_count": 26,
   "metadata": {},
   "outputs": [
    {
     "name": "stdout",
     "output_type": "stream",
     "text": [
      "2\n"
     ]
    }
   ],
   "source": [
    "# [ ] Divide a larger number by a smaller number and print the integer part of the result\n",
    "# don't divide by zero! if a zero is input make the result zero\n",
    "# [ ] cast the answer to an integer to cut off the decimals and print the result\n",
    "largenumber = 12\n",
    "smallnumber = 6\n",
    "if smallnumber == 0:\n",
    "    print(0)\n",
    "else: \n",
    "    divide = largenumber / smallnumber\n",
    "    print(int(division))\n"
   ]
  },
  {
   "cell_type": "markdown",
   "metadata": {
    "collapsed": true
   },
   "source": [
    "[Terms of use](http://go.microsoft.com/fwlink/?LinkID=206977) &nbsp; [Privacy & cookies](https://go.microsoft.com/fwlink/?LinkId=521839) &nbsp; © 2017 Microsoft"
   ]
  }
 ],
 "metadata": {
  "anaconda-cloud": {},
  "kernelspec": {
   "display_name": "Python 3 (ipykernel)",
   "language": "python",
   "name": "python3"
  },
  "language_info": {
   "codemirror_mode": {
    "name": "ipython",
    "version": 3
   },
   "file_extension": ".py",
   "mimetype": "text/x-python",
   "name": "python",
   "nbconvert_exporter": "python",
   "pygments_lexer": "ipython3",
   "version": "3.11.5"
  }
 },
 "nbformat": 4,
 "nbformat_minor": 1
}
